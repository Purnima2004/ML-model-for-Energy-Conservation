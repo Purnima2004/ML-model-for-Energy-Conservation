{
  "cells": [
    {
      "cell_type": "markdown",
      "metadata": {
        "id": "view-in-github",
        "colab_type": "text"
      },
      "source": [
        "<a href=\"https://colab.research.google.com/github/Purnima2004/ML-model-for-Energy-Conservation/blob/main/zelestra_hackathon.ipynb\" target=\"_parent\"><img src=\"https://colab.research.google.com/assets/colab-badge.svg\" alt=\"Open In Colab\"/></a>"
      ]
    },
    {
      "cell_type": "code",
      "execution_count": null,
      "metadata": {
        "id": "QYl42tRy48SV"
      },
      "outputs": [],
      "source": [
        "import pandas as pd\n",
        "import numpy as np\n",
        "import matplotlib.pyplot as plt\n",
        "from sklearn.preprocessing import MinMaxScaler\n",
        "from sklearn.model_selection import train_test_split\n",
        "from tensorflow.keras.models import Sequential\n",
        "from tensorflow.keras.layers import LSTM, Dense"
      ]
    },
    {
      "cell_type": "code",
      "execution_count": null,
      "metadata": {
        "colab": {
          "base_uri": "https://localhost:8080/"
        },
        "id": "fyqHvKowKjVw",
        "outputId": "7c6aac02-a4e5-4a2a-b135-ca060059099a"
      },
      "outputs": [
        {
          "output_type": "stream",
          "name": "stderr",
          "text": [
            "<ipython-input-5-518304331>:12: SettingWithCopyWarning: \n",
            "A value is trying to be set on a copy of a slice from a DataFrame\n",
            "\n",
            "See the caveats in the documentation: https://pandas.pydata.org/pandas-docs/stable/user_guide/indexing.html#returning-a-view-versus-a-copy\n",
            "  features.replace([\"badval\", \"\", \"N/A\"], np.nan, inplace=True)\n",
            "<ipython-input-5-518304331>:41: SettingWithCopyWarning: \n",
            "A value is trying to be set on a copy of a slice from a DataFrame\n",
            "\n",
            "See the caveats in the documentation: https://pandas.pydata.org/pandas-docs/stable/user_guide/indexing.html#returning-a-view-versus-a-copy\n",
            "  test_features.replace([\"badval\", \"\", \"N/A\"], np.nan, inplace=True)\n"
          ]
        }
      ],
      "source": [
        "import pandas as pd\n",
        "import numpy as np\n",
        "from sklearn.preprocessing import MinMaxScaler\n",
        "\n",
        "# Preprocessing train data\n",
        "df = pd.read_csv('train.csv')\n",
        "df[\"power_output\"] = df[\"voltage\"] * df[\"current\"]\n",
        "df.dropna(subset=['power_output'], inplace=True)\n",
        "\n",
        "features = df[[\"voltage\", \"current\", \"module_temperature\", \"cloud_coverage\", \"wind_speed\", \"pressure\"]]\n",
        "# Replace known bad values\n",
        "features.replace([\"badval\", \"\", \"N/A\"], np.nan, inplace=True)\n",
        "\n",
        "# Convert all to numeric\n",
        "features = features.apply(pd.to_numeric, errors='coerce')\n",
        "\n",
        "# Fill missing values (forward-fill using .ffill())\n",
        "features.ffill(inplace=True)\n",
        "\n",
        "# Scaling\n",
        "scaler = MinMaxScaler()\n",
        "scaled_features = scaler.fit_transform(features)\n",
        "\n",
        "# Function to create sequences for time series forecasting\n",
        "def create_sequences(data, lookback=30):\n",
        "    X, y = [], []\n",
        "    for i in range(lookback, len(data)):\n",
        "        X.append(data[i - lookback:i, :])\n",
        "        y.append(data[i, -1])  # predicting the last feature ('pressure' here)\n",
        "    return np.array(X), np.array(y)\n",
        "\n",
        "# -------------------------------------------------\n",
        "# Now process test data in exactly the same way!\n",
        "\n",
        "test_df = pd.read_csv('test.csv')\n",
        "test_df[\"power_output\"] = test_df[\"voltage\"] * test_df[\"current\"]\n",
        "test_df.dropna(subset=['power_output'], inplace=True)\n",
        "\n",
        "test_features = test_df[[\"voltage\", \"current\", \"module_temperature\", \"cloud_coverage\", \"wind_speed\", \"pressure\"]]\n",
        "# Replace known bad values\n",
        "test_features.replace([\"badval\", \"\", \"N/A\"], np.nan, inplace=True)\n",
        "\n",
        "# Convert all to numeric\n",
        "test_features = test_features.apply(pd.to_numeric, errors='coerce')\n",
        "\n",
        "# Fill missing values (forward-fill)\n",
        "test_features.ffill(inplace=True)\n",
        "\n",
        "# Scaling using the SAME scaler\n",
        "test_scaled_features = scaler.transform(test_features)\n",
        "\n",
        "# Create sequences for test data (same lookback window)\n",
        "X_test, y_test = create_sequences(test_scaled_features, lookback=30)\n"
      ]
    },
    {
      "cell_type": "code",
      "execution_count": null,
      "metadata": {
        "id": "smLa0mEcNELo"
      },
      "outputs": [],
      "source": [
        "#Training data\n",
        "X,y= create_sequences(scaled_features)\n",
        "X_train, X_test, y_train, y_test= train_test_split(X,y, test_size=0.2, shuffle=False)"
      ]
    },
    {
      "cell_type": "code",
      "execution_count": null,
      "metadata": {
        "colab": {
          "base_uri": "https://localhost:8080/"
        },
        "id": "RN-s0lMBo-sl",
        "outputId": "e63cd7cc-df57-466f-c4d7-cac4c9f18aa0"
      },
      "outputs": [
        {
          "output_type": "stream",
          "name": "stderr",
          "text": [
            "/usr/local/lib/python3.11/dist-packages/keras/src/layers/rnn/rnn.py:200: UserWarning: Do not pass an `input_shape`/`input_dim` argument to a layer. When using Sequential models, prefer using an `Input(shape)` object as the first layer in the model instead.\n",
            "  super().__init__(**kwargs)\n"
          ]
        },
        {
          "output_type": "stream",
          "name": "stdout",
          "text": [
            "Epoch 1/30\n",
            "\u001b[1m903/903\u001b[0m \u001b[32m━━━━━━━━━━━━━━━━━━━━\u001b[0m\u001b[37m\u001b[0m \u001b[1m16s\u001b[0m 13ms/step - loss: 0.0200 - val_loss: 0.0150\n",
            "Epoch 2/30\n",
            "\u001b[1m903/903\u001b[0m \u001b[32m━━━━━━━━━━━━━━━━━━━━\u001b[0m\u001b[37m\u001b[0m \u001b[1m14s\u001b[0m 8ms/step - loss: 0.0156 - val_loss: 0.0149\n",
            "Epoch 3/30\n",
            "\u001b[1m903/903\u001b[0m \u001b[32m━━━━━━━━━━━━━━━━━━━━\u001b[0m\u001b[37m\u001b[0m \u001b[1m11s\u001b[0m 9ms/step - loss: 0.0152 - val_loss: 0.0149\n",
            "Epoch 4/30\n",
            "\u001b[1m903/903\u001b[0m \u001b[32m━━━━━━━━━━━━━━━━━━━━\u001b[0m\u001b[37m\u001b[0m \u001b[1m9s\u001b[0m 8ms/step - loss: 0.0150 - val_loss: 0.0152\n",
            "Epoch 5/30\n",
            "\u001b[1m903/903\u001b[0m \u001b[32m━━━━━━━━━━━━━━━━━━━━\u001b[0m\u001b[37m\u001b[0m \u001b[1m11s\u001b[0m 9ms/step - loss: 0.0149 - val_loss: 0.0149\n",
            "Epoch 6/30\n",
            "\u001b[1m903/903\u001b[0m \u001b[32m━━━━━━━━━━━━━━━━━━━━\u001b[0m\u001b[37m\u001b[0m \u001b[1m8s\u001b[0m 9ms/step - loss: 0.0148 - val_loss: 0.0155\n",
            "Epoch 7/30\n",
            "\u001b[1m903/903\u001b[0m \u001b[32m━━━━━━━━━━━━━━━━━━━━\u001b[0m\u001b[37m\u001b[0m \u001b[1m10s\u001b[0m 8ms/step - loss: 0.0148 - val_loss: 0.0150\n",
            "Epoch 8/30\n",
            "\u001b[1m903/903\u001b[0m \u001b[32m━━━━━━━━━━━━━━━━━━━━\u001b[0m\u001b[37m\u001b[0m \u001b[1m8s\u001b[0m 9ms/step - loss: 0.0149 - val_loss: 0.0150\n",
            "Epoch 9/30\n",
            "\u001b[1m903/903\u001b[0m \u001b[32m━━━━━━━━━━━━━━━━━━━━\u001b[0m\u001b[37m\u001b[0m \u001b[1m8s\u001b[0m 9ms/step - loss: 0.0153 - val_loss: 0.0149\n",
            "Epoch 10/30\n",
            "\u001b[1m903/903\u001b[0m \u001b[32m━━━━━━━━━━━━━━━━━━━━\u001b[0m\u001b[37m\u001b[0m \u001b[1m7s\u001b[0m 8ms/step - loss: 0.0149 - val_loss: 0.0153\n",
            "Epoch 11/30\n",
            "\u001b[1m903/903\u001b[0m \u001b[32m━━━━━━━━━━━━━━━━━━━━\u001b[0m\u001b[37m\u001b[0m \u001b[1m10s\u001b[0m 8ms/step - loss: 0.0148 - val_loss: 0.0149\n",
            "Epoch 12/30\n",
            "\u001b[1m903/903\u001b[0m \u001b[32m━━━━━━━━━━━━━━━━━━━━\u001b[0m\u001b[37m\u001b[0m \u001b[1m8s\u001b[0m 8ms/step - loss: 0.0150 - val_loss: 0.0149\n",
            "Epoch 13/30\n",
            "\u001b[1m903/903\u001b[0m \u001b[32m━━━━━━━━━━━━━━━━━━━━\u001b[0m\u001b[37m\u001b[0m \u001b[1m10s\u001b[0m 8ms/step - loss: 0.0148 - val_loss: 0.0152\n",
            "Epoch 14/30\n",
            "\u001b[1m903/903\u001b[0m \u001b[32m━━━━━━━━━━━━━━━━━━━━\u001b[0m\u001b[37m\u001b[0m \u001b[1m7s\u001b[0m 7ms/step - loss: 0.0147 - val_loss: 0.0149\n",
            "Epoch 15/30\n",
            "\u001b[1m903/903\u001b[0m \u001b[32m━━━━━━━━━━━━━━━━━━━━\u001b[0m\u001b[37m\u001b[0m \u001b[1m11s\u001b[0m 8ms/step - loss: 0.0147 - val_loss: 0.0153\n",
            "Epoch 16/30\n",
            "\u001b[1m903/903\u001b[0m \u001b[32m━━━━━━━━━━━━━━━━━━━━\u001b[0m\u001b[37m\u001b[0m \u001b[1m7s\u001b[0m 8ms/step - loss: 0.0146 - val_loss: 0.0149\n",
            "Epoch 17/30\n",
            "\u001b[1m903/903\u001b[0m \u001b[32m━━━━━━━━━━━━━━━━━━━━\u001b[0m\u001b[37m\u001b[0m \u001b[1m7s\u001b[0m 8ms/step - loss: 0.0149 - val_loss: 0.0151\n",
            "Epoch 18/30\n",
            "\u001b[1m903/903\u001b[0m \u001b[32m━━━━━━━━━━━━━━━━━━━━\u001b[0m\u001b[37m\u001b[0m \u001b[1m10s\u001b[0m 8ms/step - loss: 0.0149 - val_loss: 0.0149\n",
            "Epoch 19/30\n",
            "\u001b[1m903/903\u001b[0m \u001b[32m━━━━━━━━━━━━━━━━━━━━\u001b[0m\u001b[37m\u001b[0m \u001b[1m10s\u001b[0m 7ms/step - loss: 0.0147 - val_loss: 0.0149\n",
            "Epoch 20/30\n",
            "\u001b[1m903/903\u001b[0m \u001b[32m━━━━━━━━━━━━━━━━━━━━\u001b[0m\u001b[37m\u001b[0m \u001b[1m8s\u001b[0m 9ms/step - loss: 0.0145 - val_loss: 0.0149\n",
            "Epoch 21/30\n",
            "\u001b[1m903/903\u001b[0m \u001b[32m━━━━━━━━━━━━━━━━━━━━\u001b[0m\u001b[37m\u001b[0m \u001b[1m10s\u001b[0m 8ms/step - loss: 0.0149 - val_loss: 0.0151\n",
            "Epoch 22/30\n",
            "\u001b[1m903/903\u001b[0m \u001b[32m━━━━━━━━━━━━━━━━━━━━\u001b[0m\u001b[37m\u001b[0m \u001b[1m7s\u001b[0m 8ms/step - loss: 0.0149 - val_loss: 0.0150\n",
            "Epoch 23/30\n",
            "\u001b[1m903/903\u001b[0m \u001b[32m━━━━━━━━━━━━━━━━━━━━\u001b[0m\u001b[37m\u001b[0m \u001b[1m8s\u001b[0m 8ms/step - loss: 0.0145 - val_loss: 0.0149\n",
            "Epoch 24/30\n",
            "\u001b[1m903/903\u001b[0m \u001b[32m━━━━━━━━━━━━━━━━━━━━\u001b[0m\u001b[37m\u001b[0m \u001b[1m7s\u001b[0m 8ms/step - loss: 0.0150 - val_loss: 0.0149\n",
            "Epoch 25/30\n",
            "\u001b[1m903/903\u001b[0m \u001b[32m━━━━━━━━━━━━━━━━━━━━\u001b[0m\u001b[37m\u001b[0m \u001b[1m8s\u001b[0m 9ms/step - loss: 0.0150 - val_loss: 0.0149\n",
            "Epoch 26/30\n",
            "\u001b[1m903/903\u001b[0m \u001b[32m━━━━━━━━━━━━━━━━━━━━\u001b[0m\u001b[37m\u001b[0m \u001b[1m10s\u001b[0m 8ms/step - loss: 0.0147 - val_loss: 0.0151\n",
            "Epoch 27/30\n",
            "\u001b[1m903/903\u001b[0m \u001b[32m━━━━━━━━━━━━━━━━━━━━\u001b[0m\u001b[37m\u001b[0m \u001b[1m10s\u001b[0m 8ms/step - loss: 0.0149 - val_loss: 0.0149\n",
            "Epoch 28/30\n",
            "\u001b[1m903/903\u001b[0m \u001b[32m━━━━━━━━━━━━━━━━━━━━\u001b[0m\u001b[37m\u001b[0m \u001b[1m10s\u001b[0m 8ms/step - loss: 0.0145 - val_loss: 0.0149\n",
            "Epoch 29/30\n",
            "\u001b[1m903/903\u001b[0m \u001b[32m━━━━━━━━━━━━━━━━━━━━\u001b[0m\u001b[37m\u001b[0m \u001b[1m10s\u001b[0m 8ms/step - loss: 0.0149 - val_loss: 0.0149\n",
            "Epoch 30/30\n",
            "\u001b[1m903/903\u001b[0m \u001b[32m━━━━━━━━━━━━━━━━━━━━\u001b[0m\u001b[37m\u001b[0m \u001b[1m10s\u001b[0m 8ms/step - loss: 0.0146 - val_loss: 0.0152\n"
          ]
        },
        {
          "output_type": "execute_result",
          "data": {
            "text/plain": [
              "<keras.src.callbacks.history.History at 0x7a8b32f40390>"
            ]
          },
          "metadata": {},
          "execution_count": 7
        }
      ],
      "source": [
        "from tensorflow.keras.models import Sequential\n",
        "from tensorflow.keras.layers import LSTM, Dense, Dropout\n",
        "\n",
        "model = Sequential()\n",
        "model.add(LSTM(128, return_sequences=True, input_shape=(X_train.shape[1], X_train.shape[2])))\n",
        "model.add(Dropout(0.2))\n",
        "model.add(LSTM(64))\n",
        "model.add(Dense(1))\n",
        "\n",
        "model.compile(optimizer='adam', loss='mse')\n",
        "model.fit(X_train, y_train, epochs=30, batch_size=16, validation_data=(X_test, y_test))"
      ]
    },
    {
      "cell_type": "code",
      "source": [
        "from sklearn.metrics import mean_squared_error\n",
        "predicted= model.predict(X_test)\n",
        "predicted= predicted.flatten()\n",
        "\n",
        "mse= mean_squared_error(y_test, predicted)\n",
        "print(\"MSE:\", mse)\n",
        "\n",
        "rmse= np.sqrt(mse)\n",
        "print(\"RMSE:\", rmse)\n",
        "\n",
        "Score= 100*(1-rmse/np.mean(y_test))\n",
        "print(\"Score:\", Score)"
      ],
      "metadata": {
        "id": "4d3bw95ZIBnn",
        "colab": {
          "base_uri": "https://localhost:8080/"
        },
        "outputId": "2e6c19f7-2735-4401-b923-caf33d0db01c"
      },
      "execution_count": null,
      "outputs": [
        {
          "output_type": "stream",
          "name": "stdout",
          "text": [
            "\u001b[1m113/113\u001b[0m \u001b[32m━━━━━━━━━━━━━━━━━━━━\u001b[0m\u001b[37m\u001b[0m \u001b[1m1s\u001b[0m 7ms/step\n",
            "MSE: 0.01517502299117906\n",
            "RMSE: 0.12318694326583098\n",
            "Score: 76.15045424929544\n"
          ]
        }
      ]
    }
  ],
  "metadata": {
    "colab": {
      "provenance": [],
      "gpuType": "T4",
      "authorship_tag": "ABX9TyOv1kXyAqChEL0A8tL6mdlm",
      "include_colab_link": true
    },
    "kernelspec": {
      "display_name": "Python 3",
      "name": "python3"
    },
    "language_info": {
      "name": "python"
    },
    "accelerator": "GPU"
  },
  "nbformat": 4,
  "nbformat_minor": 0
}